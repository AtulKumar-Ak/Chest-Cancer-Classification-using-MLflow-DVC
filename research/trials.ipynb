{
 "cells": [
  {
   "cell_type": "markdown",
   "id": "0fb7b411",
   "metadata": {},
   "source": [
    "Understanding the use of ConfigBox from the box module in Python."
   ]
  },
  {
   "cell_type": "code",
   "execution_count": null,
   "id": "7b53069d",
   "metadata": {},
   "outputs": [
    {
     "ename": "AttributeError",
     "evalue": "'dict' object has no attribute 'key'",
     "output_type": "error",
     "traceback": [
      "\u001b[31m---------------------------------------------------------------------------\u001b[39m",
      "\u001b[31mAttributeError\u001b[39m                            Traceback (most recent call last)",
      "\u001b[36mCell\u001b[39m\u001b[36m \u001b[39m\u001b[32mIn[3]\u001b[39m\u001b[32m, line 2\u001b[39m\n\u001b[32m      1\u001b[39m d={\u001b[33m\"\u001b[39m\u001b[33mkey\u001b[39m\u001b[33m\"\u001b[39m:\u001b[33m\"\u001b[39m\u001b[33mvalue\u001b[39m\u001b[33m\"\u001b[39m,\u001b[33m\"\u001b[39m\u001b[33mkey1\u001b[39m\u001b[33m\"\u001b[39m:\u001b[33m\"\u001b[39m\u001b[33mvalue1\u001b[39m\u001b[33m\"\u001b[39m}\n\u001b[32m----> \u001b[39m\u001b[32m2\u001b[39m \u001b[43md\u001b[49m\u001b[43m.\u001b[49m\u001b[43mkey\u001b[49m \u001b[38;5;66;03m#it wont work\u001b[39;00m\n\u001b[32m      3\u001b[39m d[\u001b[33m\"\u001b[39m\u001b[33mkey\u001b[39m\u001b[33m\"\u001b[39m] \u001b[38;5;66;03m#it will work\u001b[39;00m\n",
      "\u001b[31mAttributeError\u001b[39m: 'dict' object has no attribute 'key'"
     ]
    }
   ],
   "source": [
    "d={\"key\":\"value\",\"key1\":\"value1\"}\n",
    "d.key #it wont work\n",
    "d[\"key\"] #it will work"
   ]
  },
  {
   "cell_type": "markdown",
   "id": "75341218",
   "metadata": {},
   "source": [
    "therefore for easier accessability of the key values in dictionary\n",
    "\n",
    "therefore we are using ConfigBox"
   ]
  },
  {
   "cell_type": "code",
   "execution_count": null,
   "id": "2385eb04",
   "metadata": {},
   "outputs": [
    {
     "data": {
      "text/plain": [
       "'value'"
      ]
     },
     "execution_count": 6,
     "metadata": {},
     "output_type": "execute_result"
    }
   ],
   "source": [
    "from box import ConfigBox\n",
    "d2={\"key\":\"value\",\"key1\":\"value1\"}\n",
    "d2=ConfigBox(d2)\n",
    "d2.key #it will work"
   ]
  },
  {
   "cell_type": "markdown",
   "id": "4c4d9fc2",
   "metadata": {},
   "source": [
    "understanding the use of typechecked in Python"
   ]
  },
  {
   "cell_type": "markdown",
   "id": "ac3ab5f6",
   "metadata": {},
   "source": [
    "it is used for fixing the datatype of input of the function"
   ]
  },
  {
   "cell_type": "code",
   "execution_count": 7,
   "id": "ca542b3b",
   "metadata": {},
   "outputs": [
    {
     "data": {
      "text/plain": [
       "'33'"
      ]
     },
     "execution_count": 7,
     "metadata": {},
     "output_type": "execute_result"
    }
   ],
   "source": [
    "def get_product(x:int,y:int):\n",
    "    return x*y\n",
    "get_product(2,3) #it will work\n",
    "get_product(x=2,y=\"3\") #it will also work but it should not work because y is str not int"
   ]
  },
  {
   "cell_type": "code",
   "execution_count": null,
   "id": "9b50b0b1",
   "metadata": {},
   "outputs": [
    {
     "data": {
      "text/plain": [
       "6"
      ]
     },
     "execution_count": 18,
     "metadata": {},
     "output_type": "execute_result"
    },
    {
     "ename": "",
     "evalue": "",
     "output_type": "error",
     "traceback": [
      "\u001b[1;31mThe Kernel crashed while executing code in the current cell or a previous cell. \n",
      "\u001b[1;31mPlease review the code in the cell(s) to identify a possible cause of the failure. \n",
      "\u001b[1;31mClick <a href='https://aka.ms/vscodeJupyterKernelCrash'>here</a> for more info. \n",
      "\u001b[1;31mView Jupyter <a href='command:jupyter.viewOutput'>log</a> for further details."
     ]
    }
   ],
   "source": [
    "from typeguard import typechecked\n",
    "@typechecked\n",
    "def get_product2(x:int,y:int):\n",
    "    return x*y\n",
    "get_product2(2,3) #it will work"
   ]
  },
  {
   "cell_type": "markdown",
   "id": "26efc272",
   "metadata": {},
   "source": [
    "### Download data from google drive"
   ]
  },
  {
   "cell_type": "code",
   "execution_count": 1,
   "id": "5f62653c",
   "metadata": {},
   "outputs": [],
   "source": [
    "import gdown"
   ]
  },
  {
   "cell_type": "code",
   "execution_count": 3,
   "id": "97f08c30",
   "metadata": {},
   "outputs": [
    {
     "data": {
      "text/plain": [
       "'1acOsGK2rKTQ9pjWszL5ukBmn-ONCziVF'"
      ]
     },
     "execution_count": 3,
     "metadata": {},
     "output_type": "execute_result"
    }
   ],
   "source": [
    "url=\"https://drive.google.com/file/d/1acOsGK2rKTQ9pjWszL5ukBmn-ONCziVF/view?usp=drive_link\"\n",
    "# file_id=1acOsGK2rKTQ9pjWszL5ukBmn-ONCziVF\n",
    "file_id=url.split(\"/\")[-2]\n",
    "file_id"
   ]
  },
  {
   "cell_type": "code",
   "execution_count": 5,
   "id": "e4200de6",
   "metadata": {},
   "outputs": [
    {
     "name": "stderr",
     "output_type": "stream",
     "text": [
      "Downloading...\n",
      "From (original): https://drive.google.com/uc?export=download&id=1acOsGK2rKTQ9pjWszL5ukBmn-ONCziVF\n",
      "From (redirected): https://drive.google.com/uc?export=download&id=1acOsGK2rKTQ9pjWszL5ukBmn-ONCziVF&confirm=t&uuid=d7fe6e2a-f3bb-4ae1-9fd7-ed2ade461786\n",
      "To: c:\\vs\\ml\\Chest-Cancer-Classification-using-MLflow-DVC\\research\\chest-ct-scan-data.zip\n",
      "100%|██████████| 124M/124M [00:15<00:00, 8.10MB/s] \n"
     ]
    },
    {
     "data": {
      "text/plain": [
       "'chest-ct-scan-data.zip'"
      ]
     },
     "execution_count": 5,
     "metadata": {},
     "output_type": "execute_result"
    }
   ],
   "source": [
    "prefix=\"https://drive.google.com/uc?export=download&id=\"\n",
    "gdown.download(prefix+file_id,\"chest-ct-scan-data.zip\")"
   ]
  }
 ],
 "metadata": {
  "kernelspec": {
   "display_name": "cancer",
   "language": "python",
   "name": "python3"
  },
  "language_info": {
   "codemirror_mode": {
    "name": "ipython",
    "version": 3
   },
   "file_extension": ".py",
   "mimetype": "text/x-python",
   "name": "python",
   "nbconvert_exporter": "python",
   "pygments_lexer": "ipython3",
   "version": "3.12.11"
  }
 },
 "nbformat": 4,
 "nbformat_minor": 5
}
