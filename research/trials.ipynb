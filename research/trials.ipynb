{
 "cells": [
  {
   "cell_type": "markdown",
   "id": "0fb7b411",
   "metadata": {},
   "source": [
    "Understanding the use of ConfigBox from the box module in Python."
   ]
  },
  {
   "cell_type": "code",
   "execution_count": null,
   "id": "7b53069d",
   "metadata": {},
   "outputs": [
    {
     "ename": "AttributeError",
     "evalue": "'dict' object has no attribute 'key'",
     "output_type": "error",
     "traceback": [
      "\u001b[31m---------------------------------------------------------------------------\u001b[39m",
      "\u001b[31mAttributeError\u001b[39m                            Traceback (most recent call last)",
      "\u001b[36mCell\u001b[39m\u001b[36m \u001b[39m\u001b[32mIn[3]\u001b[39m\u001b[32m, line 2\u001b[39m\n\u001b[32m      1\u001b[39m d={\u001b[33m\"\u001b[39m\u001b[33mkey\u001b[39m\u001b[33m\"\u001b[39m:\u001b[33m\"\u001b[39m\u001b[33mvalue\u001b[39m\u001b[33m\"\u001b[39m,\u001b[33m\"\u001b[39m\u001b[33mkey1\u001b[39m\u001b[33m\"\u001b[39m:\u001b[33m\"\u001b[39m\u001b[33mvalue1\u001b[39m\u001b[33m\"\u001b[39m}\n\u001b[32m----> \u001b[39m\u001b[32m2\u001b[39m \u001b[43md\u001b[49m\u001b[43m.\u001b[49m\u001b[43mkey\u001b[49m \u001b[38;5;66;03m#it wont work\u001b[39;00m\n\u001b[32m      3\u001b[39m d[\u001b[33m\"\u001b[39m\u001b[33mkey\u001b[39m\u001b[33m\"\u001b[39m] \u001b[38;5;66;03m#it will work\u001b[39;00m\n",
      "\u001b[31mAttributeError\u001b[39m: 'dict' object has no attribute 'key'"
     ]
    }
   ],
   "source": [
    "d={\"key\":\"value\",\"key1\":\"value1\"}\n",
    "d.key #it wont work\n",
    "d[\"key\"] #it will work"
   ]
  },
  {
   "cell_type": "markdown",
   "id": "75341218",
   "metadata": {},
   "source": [
    "therefore for easier accessability of the key values in dictionary\n",
    "\n",
    "therefore we are using ConfigBox"
   ]
  },
  {
   "cell_type": "code",
   "execution_count": null,
   "id": "2385eb04",
   "metadata": {},
   "outputs": [
    {
     "data": {
      "text/plain": [
       "'value'"
      ]
     },
     "execution_count": 6,
     "metadata": {},
     "output_type": "execute_result"
    }
   ],
   "source": [
    "from box import ConfigBox\n",
    "d2={\"key\":\"value\",\"key1\":\"value1\"}\n",
    "d2=ConfigBox(d2)\n",
    "d2.key #it will work"
   ]
  },
  {
   "cell_type": "markdown",
   "id": "4c4d9fc2",
   "metadata": {},
   "source": [
    "understanding the use of ensure_annotations in Python"
   ]
  },
  {
   "cell_type": "code",
   "execution_count": null,
   "id": "ac3ab5f6",
   "metadata": {},
   "outputs": [],
   "source": []
  }
 ],
 "metadata": {
  "kernelspec": {
   "display_name": "cancer",
   "language": "python",
   "name": "python3"
  },
  "language_info": {
   "codemirror_mode": {
    "name": "ipython",
    "version": 3
   },
   "file_extension": ".py",
   "mimetype": "text/x-python",
   "name": "python",
   "nbconvert_exporter": "python",
   "pygments_lexer": "ipython3",
   "version": "3.12.11"
  }
 },
 "nbformat": 4,
 "nbformat_minor": 5
}
